{
 "cells": [
  {
   "cell_type": "code",
   "execution_count": null,
   "id": "3dc39875",
   "metadata": {},
   "outputs": [],
   "source": [
    "# Link do jogo para o navegador brave\n",
    "# brave://dino/"
   ]
  },
  {
   "cell_type": "markdown",
   "id": "ee4cb160",
   "metadata": {},
   "source": [
    "1 - Instalando e importando módulo"
   ]
  },
  {
   "cell_type": "code",
   "execution_count": null,
   "id": "4a2532ca",
   "metadata": {},
   "outputs": [],
   "source": [
    "%pip install -r requirements.txt"
   ]
  },
  {
   "cell_type": "code",
   "execution_count": null,
   "id": "04838d12",
   "metadata": {},
   "outputs": [],
   "source": [
    "from mss import mss # mss é usado para capturar a tela\n",
    "import pydirectinput # usado para enviar comandos\n",
    "import cv2 # open cv para processar a tela\n",
    "import numpy as np # transformação\n",
    "import pytesseract # OCR para ver o game over do jogo\n",
    "from matplotlib import pyplot as plt # Visualizar frames\n",
    "import time # Ter pausas\n",
    "from gym import Env # Componentes de ambiente\n",
    "from gym.spaces import Box, Discrete"
   ]
  },
  {
   "cell_type": "markdown",
   "id": "1a3d14c4",
   "metadata": {},
   "source": [
    "2 - Construindo o ambiente"
   ]
  },
  {
   "cell_type": "markdown",
   "id": "489fcd8b",
   "metadata": {},
   "source": [
    "2.1 - Criando o ambiente"
   ]
  },
  {
   "cell_type": "code",
   "execution_count": null,
   "id": "fc9bc9ed",
   "metadata": {},
   "outputs": [],
   "source": [
    "class WebGame(Env):\n",
    "    # Iniciando a área do jogo\n",
    "    def __init__(self):\n",
    "        super().__init__()\n",
    "\n",
    "        # Configurando a área\n",
    "        self.observation_space = Box(low=0, high=255, shape=(1,83,100), dtype=np.uint8)\n",
    "        self.action_space = Discrete(3)\n",
    "\n",
    "        # Capturando a tela\n",
    "        self.cap = mss()\n",
    "\n",
    "        self.game_location = {'top': 300, 'left': 0, 'width': 600, 'height': 500}\n",
    "        self.done_location = {'top': 405, 'left': 630, 'width': 660, 'height': 70}\n",
    "        \n",
    "        \n",
    "    # Definindo a ação\n",
    "    def step(self, action):\n",
    "        action_map = {0:'space', 1: 'down', 2: 'sem_operacao'}\n",
    "\n",
    "        if (action != 2):\n",
    "            pydirectinput.press(action_map[action])\n",
    "\n",
    "        done, done_cap = self.get_done() \n",
    "\n",
    "        observation = self.get_observation()\n",
    "\n",
    "        reward = 1 \n",
    "        info = {}\n",
    "\n",
    "        return observation, reward, done, info\n",
    "        \n",
    "    \n",
    "    # Resetando o jogo\n",
    "    def reset(self):\n",
    "        time.sleep(1)\n",
    "\n",
    "        pydirectinput.click(x=150, y=150)\n",
    "        pydirectinput.press('space')\n",
    "\n",
    "        return self.get_observation()\n",
    "        \n",
    "    \n",
    "    # Renderizando o jogo\n",
    "    def render(self):\n",
    "        cv2.imshow('Game', self.current_frame)\n",
    "\n",
    "        if cv2.waitKey(1) & 0xFF == ord('q'):\n",
    "            self.close()\n",
    "\n",
    "\n",
    "    # Fechando as janelas\n",
    "    def close(self):\n",
    "        cv2.destroyAllWindows()\n",
    "    \n",
    "\n",
    "    # Vendo a imagem do jogo\n",
    "    def get_observation(self):\n",
    "        raw = np.array(self.cap.grab(self.game_location))[:,:,:3].astype(np.uint8)\n",
    "\n",
    "        gray = cv2.cvtColor(raw, cv2.COLOR_BGR2GRAY)\n",
    "\n",
    "        resized = cv2.resize(gray, (100,83))\n",
    "        channel = np.reshape(resized, (1,83,100))\n",
    "\n",
    "        return channel\n",
    "    \n",
    "\n",
    "    # Vendo que o jogo parou\n",
    "    def get_done(self):\n",
    "        done_cap = np.array(self.cap.grab(self.done_location))\n",
    "\n",
    "        done_strings = ['GAME', 'GAHE']\n",
    "        done = False\n",
    "\n",
    "        # if np.sum(done_cap) < 44300000:\n",
    "        #     done = True\n",
    "        res = pytesseract.image_to_string(done_cap)[:4]\n",
    "        \n",
    "        if (res in done_strings):\n",
    "            done = True\n",
    "        \n",
    "        return done, done_cap"
   ]
  },
  {
   "cell_type": "markdown",
   "id": "60f65cb4",
   "metadata": {},
   "source": [
    "2.2 - Testando o ambiente"
   ]
  },
  {
   "cell_type": "code",
   "execution_count": null,
   "id": "5bbef1d9",
   "metadata": {},
   "outputs": [],
   "source": [
    "env = WebGame()"
   ]
  },
  {
   "cell_type": "code",
   "execution_count": null,
   "id": "4e1d0a2e",
   "metadata": {},
   "outputs": [],
   "source": [
    "obs = env.get_observation()"
   ]
  },
  {
   "cell_type": "code",
   "execution_count": null,
   "id": "ebdd9283",
   "metadata": {},
   "outputs": [],
   "source": [
    "plt.imshow(cv2.cvtColor(obs[0], cv2.COLOR_GRAY2BGR))"
   ]
  },
  {
   "cell_type": "code",
   "execution_count": null,
   "id": "f88c768b",
   "metadata": {},
   "outputs": [],
   "source": [
    "done, done_cap = env.get_done()"
   ]
  },
  {
   "cell_type": "code",
   "execution_count": null,
   "id": "c9bdb9ee",
   "metadata": {},
   "outputs": [],
   "source": [
    "plt.imshow(done_cap)"
   ]
  },
  {
   "cell_type": "code",
   "execution_count": null,
   "id": "32867c60",
   "metadata": {},
   "outputs": [],
   "source": [
    "pytesseract.image_to_string(done_cap)[:4]"
   ]
  },
  {
   "cell_type": "code",
   "execution_count": null,
   "id": "e8f84615",
   "metadata": {},
   "outputs": [],
   "source": [
    "done"
   ]
  },
  {
   "cell_type": "code",
   "execution_count": null,
   "id": "dd49ad11",
   "metadata": {},
   "outputs": [],
   "source": [
    "for episode in range(10): \n",
    "    obs = env.reset()\n",
    "\n",
    "    done = False  \n",
    "    total_reward   = 0\n",
    "    \n",
    "    while not done: \n",
    "        obs, reward,  done, info =  env.step(env.action_space.sample())\n",
    "        total_reward  += reward\n",
    "    \n",
    "    print(f'Recompensa total da geração {episode} é {total_reward}')    "
   ]
  },
  {
   "cell_type": "markdown",
   "id": "e32531a9",
   "metadata": {},
   "source": [
    "3 - Treinando o Modelo"
   ]
  },
  {
   "cell_type": "markdown",
   "id": "430c0740",
   "metadata": {},
   "source": [
    "3.1 - Criando callback"
   ]
  },
  {
   "cell_type": "code",
   "execution_count": null,
   "id": "146a9e45",
   "metadata": {},
   "outputs": [],
   "source": [
    "# Importando os para gerenciamento de path\n",
    "import os \n",
    "# Importando Base Callback para salvar os modelos\n",
    "from stable_baselines3.common.callbacks import BaseCallback\n",
    "# Verificando o ambiente\n",
    "from stable_baselines3.common import env_checker"
   ]
  },
  {
   "cell_type": "code",
   "execution_count": null,
   "id": "39523bb4",
   "metadata": {},
   "outputs": [],
   "source": [
    "env_checker.check_env(env)"
   ]
  },
  {
   "cell_type": "code",
   "execution_count": null,
   "id": "db7b5e54",
   "metadata": {},
   "outputs": [],
   "source": [
    "class TrainAndLoggingCallback(BaseCallback):\n",
    "\n",
    "    def __init__(self, check_freq, save_path, verbose=1):\n",
    "        super(TrainAndLoggingCallback, self).__init__(verbose)\n",
    "        self.check_freq = check_freq\n",
    "        self.save_path = save_path\n",
    "\n",
    "    def _init_callback(self):\n",
    "        if self.save_path is not None:\n",
    "            os.makedirs(self.save_path, exist_ok=True)\n",
    "\n",
    "    def _on_step(self):\n",
    "        if self.n_calls % self.check_freq == 0:\n",
    "            model_path = os.path.join(self.save_path, 'best_model_{}'.format(self.n_calls))\n",
    "            self.model.save(model_path)\n",
    "\n",
    "        return True"
   ]
  },
  {
   "cell_type": "code",
   "execution_count": null,
   "id": "eebea86c",
   "metadata": {},
   "outputs": [],
   "source": [
    "CHECKPOINT_DIR = './train/'\n",
    "LOG_DIR = './logs/'"
   ]
  },
  {
   "cell_type": "code",
   "execution_count": null,
   "id": "7bbfc925",
   "metadata": {},
   "outputs": [],
   "source": [
    "callback = TrainAndLoggingCallback(check_freq=1000, save_path=CHECKPOINT_DIR)"
   ]
  },
  {
   "cell_type": "markdown",
   "id": "81877254",
   "metadata": {},
   "source": [
    "3.2 - Construindo DQN e Train"
   ]
  },
  {
   "cell_type": "code",
   "execution_count": null,
   "id": "e58828d1",
   "metadata": {},
   "outputs": [],
   "source": [
    "from stable_baselines3 import DQN\n",
    "from stable_baselines3.common.monitor import Monitor\n",
    "from stable_baselines3.common.vec_env import DummyVecEnv, VecFrameStack"
   ]
  },
  {
   "cell_type": "code",
   "execution_count": null,
   "id": "d9548fec",
   "metadata": {},
   "outputs": [],
   "source": [
    "env = WebGame()"
   ]
  },
  {
   "cell_type": "code",
   "execution_count": null,
   "id": "82498a68",
   "metadata": {},
   "outputs": [],
   "source": [
    "model = DQN('CnnPolicy', env, tensorboard_log=LOG_DIR, verbose=1, buffer_size=1200000, learning_starts=1000)"
   ]
  },
  {
   "cell_type": "code",
   "execution_count": null,
   "id": "1e51e070",
   "metadata": {},
   "outputs": [],
   "source": [
    "model.learn(total_timesteps = 100000, callback = callback)"
   ]
  },
  {
   "cell_type": "code",
   "execution_count": null,
   "id": "ada23ab5",
   "metadata": {},
   "outputs": [],
   "source": [
    "model.load('train_first/best_mode l_50000') "
   ]
  },
  {
   "cell_type": "markdown",
   "id": "1e2cb611",
   "metadata": {},
   "source": [
    "4 - Testando o Modelo"
   ]
  },
  {
   "cell_type": "code",
   "execution_count": null,
   "id": "59512c11",
   "metadata": {},
   "outputs": [],
   "source": [
    "for episode in range(5): \n",
    "    obs = env.reset()\n",
    "    \n",
    "    done = False\n",
    "    total_reward = 0\n",
    "    \n",
    "    while not done: \n",
    "        action, _ = model.predict(obs)\n",
    "        obs, reward, done, info = env.step(int(action))\n",
    "        time.sleep(0.01)\n",
    "        total_reward += reward\n",
    "    \n",
    "    print(f'Recompensa total da geração {episode} é {total_reward}')\n",
    "    time.sleep(2)"
   ]
  }
 ],
 "metadata": {
  "kernelspec": {
   "display_name": "venv",
   "language": "python",
   "name": "python3"
  },
  "language_info": {
   "codemirror_mode": {
    "name": "ipython",
    "version": 3
   },
   "file_extension": ".py",
   "mimetype": "text/x-python",
   "name": "python",
   "nbconvert_exporter": "python",
   "pygments_lexer": "ipython3",
   "version": "3.12.1"
  }
 },
 "nbformat": 4,
 "nbformat_minor": 5
}
